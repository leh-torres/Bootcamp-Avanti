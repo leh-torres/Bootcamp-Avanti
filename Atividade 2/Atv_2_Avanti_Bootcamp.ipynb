{
  "nbformat": 4,
  "nbformat_minor": 0,
  "metadata": {
    "colab": {
      "provenance": []
    },
    "kernelspec": {
      "name": "python3",
      "display_name": "Python 3"
    },
    "language_info": {
      "name": "python"
    }
  },
  "cells": [
    {
      "cell_type": "markdown",
      "source": [
        "# ➖➖ **Avanti Bootcamp** 🚀 ➖ ➖"
      ],
      "metadata": {
        "id": "U82Pvd8HPEy0"
      }
    },
    {
      "cell_type": "markdown",
      "source": [
        " 1 - Escreva uma função que receba uma lista de números e retorne outra lista com os números ímpares."
      ],
      "metadata": {
        "id": "hUiwzEzLP5yS"
      }
    },
    {
      "cell_type": "code",
      "execution_count": 6,
      "metadata": {
        "id": "LJLbpskXO_Q-"
      },
      "outputs": [],
      "source": [
        "def listaimpares(lista):\n",
        "  impares = [n for n in lista if n%2!=0]\n",
        "  return impares"
      ]
    },
    {
      "cell_type": "code",
      "source": [
        "exemplo1 = [1,2,3,4,5,6,7,8,9]\n",
        "print(listaimpares(exemplo1))"
      ],
      "metadata": {
        "colab": {
          "base_uri": "https://localhost:8080/"
        },
        "id": "043iB7H_QkuQ",
        "outputId": "8a1c3053-7daa-401d-97f6-48573f655cbd"
      },
      "execution_count": 7,
      "outputs": [
        {
          "output_type": "stream",
          "name": "stdout",
          "text": [
            "[1, 3, 5, 7, 9]\n"
          ]
        }
      ]
    },
    {
      "cell_type": "markdown",
      "source": [
        "2 - Escreva uma função que receba uma lista de números e retorne outra lista\n",
        "com os números primos presentes."
      ],
      "metadata": {
        "id": "kb8FdK4dQvqF"
      }
    },
    {
      "cell_type": "code",
      "source": [
        "def listaPrimos(lista):\n",
        "  primos = []\n",
        "\n",
        "  for n in lista:\n",
        "    multi = 0\n",
        "\n",
        "    for count in range(2, n):\n",
        "      if n%count == 0:\n",
        "        multi+=1\n",
        "\n",
        "    if multi == 0:\n",
        "      primos.append(n)\n",
        "\n",
        "  return primos"
      ],
      "metadata": {
        "id": "G3KguiSAQvQr"
      },
      "execution_count": 8,
      "outputs": []
    },
    {
      "cell_type": "code",
      "source": [
        "ex1 = [10,21,44,2,6,7,14]\n",
        "print(listaPrimos(ex1))"
      ],
      "metadata": {
        "colab": {
          "base_uri": "https://localhost:8080/"
        },
        "id": "lKNwKAL3Vott",
        "outputId": "a921c20e-5f4b-4e36-be13-dcc0b8d6793f"
      },
      "execution_count": 9,
      "outputs": [
        {
          "output_type": "stream",
          "name": "stdout",
          "text": [
            "[2, 7]\n"
          ]
        }
      ]
    },
    {
      "cell_type": "markdown",
      "source": [
        "3 - Escreva uma função que receba duas listas e retorne outra lista com os\n",
        "elementos que estão presentes em apenas uma das listas"
      ],
      "metadata": {
        "id": "AIrG4QfwV2w1"
      }
    },
    {
      "cell_type": "code",
      "source": [
        "def voltaLista(l1, l2):\n",
        "  l3 = l1\n",
        "  return l3"
      ],
      "metadata": {
        "id": "RU0cb2DZV6ii"
      },
      "execution_count": 10,
      "outputs": []
    },
    {
      "cell_type": "code",
      "source": [
        "ex1 = [2,4,5]\n",
        "ex2 = [9,10,6]\n",
        "print(voltaLista(ex1, ex2))"
      ],
      "metadata": {
        "colab": {
          "base_uri": "https://localhost:8080/"
        },
        "id": "s-HMW3AqWP0V",
        "outputId": "919ae249-ef02-4cfc-f5a1-a0f3da07ed25"
      },
      "execution_count": 11,
      "outputs": [
        {
          "output_type": "stream",
          "name": "stdout",
          "text": [
            "[2, 4, 5]\n"
          ]
        }
      ]
    },
    {
      "cell_type": "markdown",
      "source": [
        "4 - Dada uma lista de números inteiros, escreva uma função para encontrar o\n",
        "segundo maior valor na lista."
      ],
      "metadata": {
        "id": "3q1wjqgPWb-X"
      }
    },
    {
      "cell_type": "code",
      "source": [
        "def segundoMaior(lista):\n",
        "  tam = len(lista)\n",
        "  ordenada = sorted(lista)\n",
        "\n",
        "  return ordenada[tam-2]"
      ],
      "metadata": {
        "id": "IgF2-LPDWfXD"
      },
      "execution_count": 30,
      "outputs": []
    },
    {
      "cell_type": "code",
      "source": [
        "exemplo = [4,12,5,9,0,23,6]\n",
        "segundoMaior(exemplo)"
      ],
      "metadata": {
        "colab": {
          "base_uri": "https://localhost:8080/"
        },
        "id": "8teJOr6uXHOL",
        "outputId": "6a555c38-d699-49f8-b469-4cab08772772"
      },
      "execution_count": 31,
      "outputs": [
        {
          "output_type": "execute_result",
          "data": {
            "text/plain": [
              "12"
            ]
          },
          "metadata": {},
          "execution_count": 31
        }
      ]
    },
    {
      "cell_type": "markdown",
      "source": [
        "5 - Crie uma função que receba uma lista de tuplas, cada uma contendo o\n",
        "nome e a idade de uma pessoa, e retorne a lista ordenada pelo nome das\n",
        "pessoas em ordem alfabética."
      ],
      "metadata": {
        "id": "nY5cqCHBYOhi"
      }
    },
    {
      "cell_type": "code",
      "source": [
        "def ordemAlfabetica(lista):\n",
        "  return sorted(lista, key=lambda cadastro:cadastro[0])"
      ],
      "metadata": {
        "id": "d6sSc31aYRsc"
      },
      "execution_count": 40,
      "outputs": []
    },
    {
      "cell_type": "code",
      "source": [
        "cadastros = [('Leticia', 21), ('Hugo', 13), ('Nathan', 7), ('Beatriz', 38)]\n",
        "print(ordemAlfabetica(cadastros))"
      ],
      "metadata": {
        "colab": {
          "base_uri": "https://localhost:8080/"
        },
        "id": "HPKmGvgnY9vi",
        "outputId": "02617273-9413-45f2-d09d-c3f3843cc397"
      },
      "execution_count": 41,
      "outputs": [
        {
          "output_type": "stream",
          "name": "stdout",
          "text": [
            "[('Beatriz', 38), ('Hugo', 13), ('Leticia', 21), ('Nathan', 7)]\n"
          ]
        }
      ]
    },
    {
      "cell_type": "markdown",
      "source": [
        "6. Observe os espaços sublinhados e complete o código.\n",
        "\n",
        "```\n",
        "import __________.pyplot as plt\n",
        "import numpy as ___\n",
        "fig, axs = plt.subplots(ncols=2, nrows=2, figsize=(5.5, 3.5),\n",
        " layout=\"constrained\")\n",
        "for ___ in range(2):\n",
        " for ___ in range(2):\n",
        " axs[row, col].annotate(f'axs[{row}, {col}]', (0.5, 0.5),\n",
        " transform=axs[row, col].transAxes,\n",
        " ha='center', va='center', ________=18,\n",
        " color='darkgrey')\n",
        "fig.suptitle('__.subplots()')\n",
        "\n",
        "```\n",
        "\n"
      ],
      "metadata": {
        "id": "ljK6tzVnaYAn"
      }
    },
    {
      "cell_type": "code",
      "source": [
        "import matplotlib.pyplot as plt\n",
        "import numpy as np\n",
        "\n",
        "fig, axs = plt.subplots(ncols = 2, nrows=2, figsize=(5.5, 3.5),layout=\"constrained\")\n",
        "\n",
        "for row in range(2):\n",
        "  for col in range(2):\n",
        "    axs[row, col].annotate(f'axs[{row}, {col}]', (0.5, 0.5), transform=axs[row, col].transAxes,ha='center', va='center', fontsize=18,color='darkgrey')"
      ],
      "metadata": {
        "colab": {
          "base_uri": "https://localhost:8080/",
          "height": 378
        },
        "id": "aMC_xhRuacQX",
        "outputId": "de1bd51c-80d6-4c1a-8afb-d5a4134c7338"
      },
      "execution_count": 2,
      "outputs": [
        {
          "output_type": "display_data",
          "data": {
            "text/plain": [
              "<Figure size 550x350 with 4 Axes>"
            ],
            "image/png": "[encoded data removed]"
          },
          "metadata": {}
        }
      ]
    },
    {
      "cell_type": "markdown",
      "source": [
        "7 - Observe os espaços sublinhados e complete o código.\n",
        "\n",
        "\n",
        "\n",
        "\n",
        "```\n",
        "import numpy as np\n",
        "import __________ as mpl\n",
        "import __________.______ as plt\n",
        "x = np.________(-2 * np.pi, 2 * np.pi, 100)\n",
        "y = np.____(x)\n",
        "__, __ = plt.subplots()\n",
        "ax.____(_, _)\n",
        "\n",
        "```\n",
        "\n",
        "\n",
        "\n"
      ],
      "metadata": {
        "id": "YNsD0jo96CYk"
      }
    },
    {
      "cell_type": "code",
      "source": [
        "import numpy as np\n",
        "import matplotlib as mpl\n",
        "import matplotlib.pyplot as plt\n",
        "\n",
        "x = np.arange(-2 * np.pi, 2 * np.pi, 100)\n",
        "y = np.cos(x)\n",
        "\n",
        "fig, ax = plt.subplots()\n",
        "ax.plot(x, y)"
      ],
      "metadata": {
        "colab": {
          "base_uri": "https://localhost:8080/",
          "height": 447
        },
        "id": "vGuWaXGR6Djc",
        "outputId": "dc9ff150-9d5c-4b52-cfd7-d6fb0a629940"
      },
      "execution_count": 8,
      "outputs": [
        {
          "output_type": "execute_result",
          "data": {
            "text/plain": [
              "[<matplotlib.lines.Line2D at 0x78392d29fa60>]"
            ]
          },
          "metadata": {},
          "execution_count": 8
        },
        {
          "output_type": "display_data",
          "data": {
            "text/plain": [
              "<Figure size 640x480 with 1 Axes>"
            ],
            "image/png": "[encoded data removed]"
          },
          "metadata": {}
        }
      ]
    },
    {
      "cell_type": "markdown",
      "source": [
        "8 - Utilizando pandas, como realizar a leitura de um arquivo CSV em um\n",
        "DataFrame e exibir as primeiras linhas?"
      ],
      "metadata": {
        "id": "tFC2z4Jv8s_x"
      }
    },
    {
      "cell_type": "code",
      "source": [
        "import pandas as pd\n",
        "\n",
        "data = pd.read_csv('nome_arquivo')\n",
        "data.head()"
      ],
      "metadata": {
        "id": "BLk7aPNs8wBC"
      },
      "execution_count": null,
      "outputs": []
    },
    {
      "cell_type": "markdown",
      "source": [
        "9 - Utilizando pandas, como selecionar uma coluna específica e filtrar linhas\n",
        "em um “DataFrame” com base em uma condição?"
      ],
      "metadata": {
        "id": "E7YTfJXs9a-U"
      }
    },
    {
      "cell_type": "code",
      "source": [
        "#filtrando coluna\n",
        "data.['nome_coluna']\n",
        "\n",
        "#filtrando linhas com base em uma condição\n",
        "# Obs: Está condição é só para exemplo\n",
        "data.['nome_coluna'] > 4"
      ],
      "metadata": {
        "id": "OU7MO8SI9fTD"
      },
      "execution_count": null,
      "outputs": []
    }
  ]
}